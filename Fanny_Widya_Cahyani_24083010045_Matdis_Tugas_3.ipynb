{
  "nbformat": 4,
  "nbformat_minor": 0,
  "metadata": {
    "colab": {
      "provenance": []
    },
    "kernelspec": {
      "name": "python3",
      "display_name": "Python 3"
    },
    "language_info": {
      "name": "python"
    }
  },
  "cells": [
    {
      "cell_type": "code",
      "source": [
        "def cek_pembagian(n):\n",
        "    hasil = (n**2 - n) % (n-1)\n",
        "    return hasil == 0"
      ],
      "metadata": {
        "id": "V3o4r76eMOcD"
      },
      "execution_count": 7,
      "outputs": []
    },
    {
      "cell_type": "markdown",
      "source": [
        "Fungsi cek\\_pembagian(n) digunakan untuk memeriksa apakah hasil dari n² - n habis dibagi dengan n - 1. Di dalamnya, perhitungan dilakukan dengan operasi modulo, yaitu (n\\*\\*2 - n) % (n-1). Jika hasil operasi tersebut bernilai 0, maka itu berarti n² - n dapat dibagi habis oleh n - 1, sehingga fungsi akan mengembalikan nilai True. Jika tidak, maka fungsi akan mengembalikan nilai False. Dengan demikian, fungsi ini secara sederhana berfungsi sebagai alat uji pembagian dalam bentuk program."
      ],
      "metadata": {
        "id": "dOQqETBaNWWQ"
      }
    },
    {
      "cell_type": "code",
      "source": [
        "# Uji untuk beberapa nilai n\n",
        "print(\"Cek n^2 - n habis dibagi (n-1):\")\n",
        "for n in range(2, 11):  # mulai dari 2 biar tidak error (n-1 ≠ 0)\n",
        "    print(f\"n = {n}, hasil: {cek_pembagian(n)}\")"
      ],
      "metadata": {
        "colab": {
          "base_uri": "https://localhost:8080/"
        },
        "id": "LGqe6X7QLO5T",
        "outputId": "d6528bf0-e668-438d-e8a9-0b94887c9bff"
      },
      "execution_count": 4,
      "outputs": [
        {
          "output_type": "stream",
          "name": "stdout",
          "text": [
            "Cek n^2 - n habis dibagi (n-1):\n",
            "n = 2, hasil: True\n",
            "n = 3, hasil: True\n",
            "n = 4, hasil: True\n",
            "n = 5, hasil: True\n",
            "n = 6, hasil: True\n",
            "n = 7, hasil: True\n",
            "n = 8, hasil: True\n",
            "n = 9, hasil: True\n",
            "n = 10, hasil: True\n"
          ]
        }
      ]
    },
    {
      "cell_type": "markdown",
      "source": [
        "Program melakukan perulangan dari n = 2 hingga n = 10, lalu setiap nilai n akan diproses oleh fungsi cek_pembagian. Pada setiap iterasi, hasil yang ditampilkan menunjukkan apakah n² - n benar-benar habis dibagi oleh n - 1. Pemilihan awal dari n = 2 bertujuan agar tidak terjadi pembagian dengan nol, karena jika n = 1 maka (n - 1) bernilai nol dan akan menimbulkan error. Berdasarkan hasil output, semua nilai dari n = 2 sampai n = 10 menghasilkan True, yang berarti bahwa n² - n memang selalu habis dibagi oleh n - 1. Hal ini sesuai dengan pembuktian matematis bahwa bentuk n² - n dapat difaktorkan menjadi n(n - 1), sehingga sudah pasti memiliki faktor (n - 1)."
      ],
      "metadata": {
        "id": "1wgB5egTOTAM"
      }
    },
    {
      "cell_type": "code",
      "source": [
        "def hitung_harmonik(n):\n",
        "    \"\"\"Hitung jumlah deret harmonik sampai suku ke-n.\"\"\"\n",
        "    total = sum(1/i for i in range(1, n+1))\n",
        "    return total, total < 2"
      ],
      "metadata": {
        "id": "oClKlX-RLyVj"
      },
      "execution_count": 5,
      "outputs": []
    },
    {
      "cell_type": "markdown",
      "source": [
        "Fungsi hitung\\_harmonik(n) digunakan untuk menghitung jumlah deret harmonik hingga suku ke-n. Di dalam fungsi, perhitungan dilakukan dengan menjumlahkan pecahan 1/i mulai dari i = 1 sampai i = n menggunakan komprehensi generator. Hasil penjumlahan disimpan dalam variabel total, kemudian fungsi mengembalikan dua nilai sekaligus, yaitu total sebagai hasil jumlah deret harmonik dan kondisi logis apakah total tersebut lebih kecil dari 2. Dengan cara ini, fungsi tidak hanya menghitung nilai deret harmonik, tetapi juga langsung memeriksa kebenaran pernyataan bahwa hasil deret tersebut kurang dari 2."
      ],
      "metadata": {
        "id": "Xcz-LdK1OdnC"
      }
    },
    {
      "cell_type": "code",
      "source": [
        "print(\"\\nhitung deret harmonik < 2:\")\n",
        "for n in range(1, 11):\n",
        "    total, benar = hitung_harmonik(n)\n",
        "    print(f\"n = {n}, jumlah = {total:.5f}, < 2 ? {benar}\")"
      ],
      "metadata": {
        "colab": {
          "base_uri": "https://localhost:8080/"
        },
        "id": "_7qs-85SMZW4",
        "outputId": "66b87aa8-5ef9-4029-be16-0d82f26c58f5"
      },
      "execution_count": 10,
      "outputs": [
        {
          "output_type": "stream",
          "name": "stdout",
          "text": [
            "\n",
            "hitung deret harmonik < 2:\n",
            "n = 1, jumlah = 1.00000, < 2 ? True\n",
            "n = 2, jumlah = 1.50000, < 2 ? True\n",
            "n = 3, jumlah = 1.83333, < 2 ? True\n",
            "n = 4, jumlah = 2.08333, < 2 ? False\n",
            "n = 5, jumlah = 2.28333, < 2 ? False\n",
            "n = 6, jumlah = 2.45000, < 2 ? False\n",
            "n = 7, jumlah = 2.59286, < 2 ? False\n",
            "n = 8, jumlah = 2.71786, < 2 ? False\n",
            "n = 9, jumlah = 2.82897, < 2 ? False\n",
            "n = 10, jumlah = 2.92897, < 2 ? False\n"
          ]
        }
      ]
    },
    {
      "cell_type": "markdown",
      "source": [
        "Potongan kode tersebut digunakan untuk menguji fungsi hitung\\_harmonik pada nilai n dari 1 sampai 10. Pada setiap iterasi, program menghitung jumlah deret harmonik hingga suku ke-n dan sekaligus memeriksa apakah hasilnya lebih kecil dari 2. Dari output yang dihasilkan terlihat bahwa untuk n = 1 sampai n = 3, nilai jumlah deret harmonik masih kurang dari 2 sehingga kondisi < 2 bernilai True. Namun mulai dari n = 4 dan seterusnya, jumlah deret harmonik sudah melebihi 2 sehingga kondisi < 2 bernilai False. Hal ini menunjukkan bahwa pernyataan deret harmonik selalu kurang dari 2 tidak benar, karena pada jumlah suku yang lebih banyak, hasilnya justru semakin besar dan melampaui batas 2."
      ],
      "metadata": {
        "id": "xuA6wCwFOtW7"
      }
    }
  ]
}