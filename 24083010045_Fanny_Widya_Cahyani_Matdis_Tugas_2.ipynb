{
  "nbformat": 4,
  "nbformat_minor": 0,
  "metadata": {
    "colab": {
      "provenance": []
    },
    "kernelspec": {
      "name": "python3",
      "display_name": "Python 3"
    },
    "language_info": {
      "name": "python"
    }
  },
  "cells": [
    {
      "cell_type": "code",
      "execution_count": null,
      "metadata": {
        "colab": {
          "base_uri": "https://localhost:8080/"
        },
        "id": "mSO7BGTykKzr",
        "outputId": "39884c4b-fd15-4236-e3ed-e88d92264c21"
      },
      "outputs": [
        {
          "output_type": "stream",
          "name": "stdout",
          "text": [
            "=== Soal Nomor 1 ===\n",
            "n=1 -> Jumlah=1, n^2=1, Benar? True\n",
            "n=2 -> Jumlah=4, n^2=4, Benar? True\n",
            "n=3 -> Jumlah=9, n^2=9, Benar? True\n",
            "n=4 -> Jumlah=16, n^2=16, Benar? True\n",
            "n=5 -> Jumlah=25, n^2=25, Benar? True\n",
            "n=6 -> Jumlah=36, n^2=36, Benar? True\n",
            "n=7 -> Jumlah=49, n^2=49, Benar? True\n",
            "n=8 -> Jumlah=64, n^2=64, Benar? True\n",
            "n=9 -> Jumlah=81, n^2=81, Benar? True\n",
            "n=10 -> Jumlah=100, n^2=100, Benar? True\n"
          ]
        }
      ],
      "source": [
        "import math\n",
        "\n",
        "# Soal Nomor 1:\n",
        "# 1 + 3 + 5 + ... + (2n-1) = n^2\n",
        "def cek_soal_1(n):\n",
        "    jumlah = sum(2*i - 1 for i in range(1, n+1))  # sisi kiri\n",
        "    kanan = n**2  # sisi kanan\n",
        "    return jumlah, kanan, jumlah == kanan\n",
        "# Uji coba untuk beberapa n\n",
        "print(\"=== Soal Nomor 1 ===\")\n",
        "for n in range(1, 11):\n",
        "    jumlah, kanan, benar = cek_soal_1(n)\n",
        "    print(f\"n={n} -> Jumlah={jumlah}, n^2={kanan}, Benar? {benar}\")"
      ]
    },
    {
      "cell_type": "markdown",
      "source": [
        "Membuat program yang menghitung jumlah bilangan ganjil pertama sampai ke-n, lalu membandingkannya dengan n². Jika hasil penjumlahan sama dengan n², maka pernyataan benar. Program kemudian diuji untuk n dari 1 sampai 10.\n",
        "\n",
        "Hasil output menunjukkan bahwa untuk setiap n dari 1 hingga 10, nilai penjumlahan bilangan ganjil selalu sama dengan n². Contohnya n=3 menghasilkan jumlah 9 dan n²=9, n=7 menghasilkan jumlah 49 dan n²=49, hingga n=10 menghasilkan jumlah 100 dan n²=100. Semua perbandingan bernilai benar, sehingga rumus terbukti sesuai."
      ],
      "metadata": {
        "id": "OaQUtHJLtJC2"
      }
    },
    {
      "cell_type": "code",
      "source": [
        "# Soal Nomor 5:\n",
        "# 2^n > n^2\n",
        "def cek_soal_5(n):\n",
        "    kiri = 2**n\n",
        "    kanan = n**2\n",
        "    return kiri, kanan, kiri > kanan\n",
        "print(\"\\n=== Soal Nomor 5 ===\")\n",
        "for n in range(1, 11):\n",
        "    kiri, kanan, benar = cek_soal_5(n)\n",
        "    print(f\"n={n} -> 2^n={kiri}, n²={kanan}, Benar? {benar}\")"
      ],
      "metadata": {
        "colab": {
          "base_uri": "https://localhost:8080/"
        },
        "id": "5p7KfNKvsCwk",
        "outputId": "c8f8bb83-da37-4b0a-d586-fea22a9c07ed"
      },
      "execution_count": null,
      "outputs": [
        {
          "output_type": "stream",
          "name": "stdout",
          "text": [
            "\n",
            "=== Soal Nomor 5 ===\n",
            "n=1 -> 2^n=2, n²=1, Benar? True\n",
            "n=2 -> 2^n=4, n²=4, Benar? False\n",
            "n=3 -> 2^n=8, n²=9, Benar? False\n",
            "n=4 -> 2^n=16, n²=16, Benar? False\n",
            "n=5 -> 2^n=32, n²=25, Benar? True\n",
            "n=6 -> 2^n=64, n²=36, Benar? True\n",
            "n=7 -> 2^n=128, n²=49, Benar? True\n",
            "n=8 -> 2^n=256, n²=64, Benar? True\n",
            "n=9 -> 2^n=512, n²=81, Benar? True\n",
            "n=10 -> 2^n=1024, n²=100, Benar? True\n"
          ]
        }
      ]
    },
    {
      "cell_type": "markdown",
      "source": [
        "Membandingkan dua bentuk persamaan, yaitu 2^n di sisi kiri dan n² di sisi kanan. Program dibuat untuk menghitung kedua sisi tersebut, kemudian memeriksa apakah benar 2^n lebih besar dari n². Pengecekan dilakukan untuk nilai n dari 1 sampai 10. Hasil output terlihat bahwa untuk n = 1 perbandingan bernilai benar, sedangkan untuk n = 2, 3, dan 4 hasilnya salah karena n² lebih besar atau sama dengan 2^n. Mulai dari n = 5 sampai n = 10, hasil perbandingan kembali benar karena nilai 2^n jauh lebih besar dibandingkan n². Hal ini menunjukkan bahwa pernyataan 2^n lebih besar dari n² tidak berlaku untuk semua n, tetapi benar jika n lebih besar atau sama dengan 5."
      ],
      "metadata": {
        "id": "IoyfnuDAtzHr"
      }
    }
  ]
}